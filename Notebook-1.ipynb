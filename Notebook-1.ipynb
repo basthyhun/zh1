{
    "metadata": {
        "kernelspec": {
            "name": "SQL",
            "display_name": "SQL",
            "language": "sql"
        },
        "language_info": {
            "name": "sql",
            "version": ""
        }
    },
    "nbformat_minor": 2,
    "nbformat": 4,
    "cells": [
        {
            "cell_type": "code",
            "source": [
                "\r\n",
                "SELECT \r\n",
                "    CASE\r\n",
                "        WHEN v.SZUL_DAT > '1985-01-01' THEN 'Fiatal'\r\n",
                "        WHEN v.SZUL_DAT <= '1970-12-31' THEN 'Idős'\r\n",
                "        ELSE 'Középkorú'\r\n",
                "    END AS kategoria,\r\n",
                "    COUNT(f.FOGLALAS_PK) AS foglalasszam\r\n",
                "FROM Vendeg v\r\n",
                "JOIN Foglalas f ON v.NEV = f.UGYFEL_FK\r\n",
                "WHERE f.FELNOTT_SZAM >= 2;\r\n",
                "GROUP BY \r\n",
                "    CASE\r\n",
                "        WHEN v.SZUL_DAT > '1985-01-01' THEN 'Fiatal'\r\n",
                "        WHEN v.SZUL_DAT<= '1970-12-31' THEN 'Idős'\r\n",
                "        ELSE 'Középkorú'\r\n",
                "    END;"
            ],
            "metadata": {
                "azdata_cell_guid": "fec26d18-e5c8-4e3c-bfee-8bb8973c46f6",
                "language": "sql"
            },
            "outputs": [
                {
                    "output_type": "display_data",
                    "data": {
                        "text/html": "(0 rows affected)"
                    },
                    "metadata": {}
                },
                {
                    "output_type": "display_data",
                    "data": {
                        "text/html": "Total execution time: 00:00:00.012"
                    },
                    "metadata": {}
                },
                {
                    "output_type": "execute_result",
                    "metadata": {},
                    "execution_count": 2,
                    "data": {
                        "application/vnd.dataresource+json": {
                            "schema": {
                                "fields": [
                                    {
                                        "name": "kategoria"
                                    },
                                    {
                                        "name": "foglalasszam"
                                    }
                                ]
                            },
                            "data": []
                        },
                        "text/html": [
                            "<table>",
                            "<tr><th>kategoria</th><th>foglalasszam</th></tr>",
                            "</table>"
                        ]
                    }
                }
            ],
            "execution_count": 2
        },
        {
            "cell_type": "code",
            "source": [
                ""
            ],
            "metadata": {
                "azdata_cell_guid": "74425e49-1c71-433d-8ec5-33c9ccc75b72",
                "language": "sql"
            },
            "outputs": [],
            "execution_count": null
        }
    ]
}